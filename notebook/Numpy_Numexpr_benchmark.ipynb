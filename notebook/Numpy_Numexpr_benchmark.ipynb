{
 "metadata": {
  "name": "Numpy_Numexpr_benchmark"
 },
 "nbformat": 3,
 "nbformat_minor": 0,
 "worksheets": [
  {
   "cells": [
    {
     "cell_type": "code",
     "collapsed": false,
     "input": "%%timeit -n1\n%run /home/cayetano/Dropbox/documentos/python/GIS/Numpy_Numexpr_benchmark/test_numexpr.py",
     "language": "python",
     "metadata": {},
     "outputs": [
      {
       "output_type": "stream",
       "stream": "stdout",
       "text": "Testing numpy with numexpr\nStarting computations...\nProcess completed successfully!\n"
      },
      {
       "output_type": "stream",
       "stream": "stdout",
       "text": "\nTesting numpy with numexpr\nStarting computations...\nProcess completed successfully!\n"
      },
      {
       "output_type": "stream",
       "stream": "stdout",
       "text": "\nTesting numpy with numexpr\nStarting computations...\nProcess completed successfully!\n"
      },
      {
       "output_type": "stream",
       "stream": "stdout",
       "text": "\n1 loops, best of 3: 1.33 s per loop\n"
      }
     ],
     "prompt_number": 1
    },
    {
     "cell_type": "code",
     "collapsed": false,
     "input": "%%timeit -n1\n%run /home/cayetano/Dropbox/documentos/python/GIS/Numpy_Numexpr_benchmark/test_nonumexpr.py",
     "language": "python",
     "metadata": {},
     "outputs": [
      {
       "output_type": "stream",
       "stream": "stdout",
       "text": "Testing numpy without numexpr\nStarting computations...\nProcess completed successfully!\n"
      },
      {
       "output_type": "stream",
       "stream": "stdout",
       "text": "\nTesting numpy without numexpr\nStarting computations...\nProcess completed successfully!\n"
      },
      {
       "output_type": "stream",
       "stream": "stdout",
       "text": "\nTesting numpy without numexpr\nStarting computations...\nProcess completed successfully!\n"
      },
      {
       "output_type": "stream",
       "stream": "stdout",
       "text": "\n1 loops, best of 3: 9.45 s per loop\n"
      }
     ],
     "prompt_number": 2
    },
    {
     "cell_type": "code",
     "collapsed": false,
     "input": "%prun testNumexpr(5000)",
     "language": "python",
     "metadata": {},
     "outputs": [
      {
       "output_type": "stream",
       "stream": "stdout",
       "text": "Testing numpy with numexpr\nStarting computations...\nProcess completed successfully!\n"
      },
      {
       "output_type": "stream",
       "stream": "stdout",
       "text": "\n\n"
      }
     ],
     "prompt_number": 3
    },
    {
     "cell_type": "code",
     "collapsed": false,
     "input": "%load_ext memory_profiler",
     "language": "python",
     "metadata": {},
     "outputs": [],
     "prompt_number": 4
    },
    {
     "cell_type": "code",
     "collapsed": false,
     "input": "%load_ext line_profiler",
     "language": "python",
     "metadata": {},
     "outputs": [],
     "prompt_number": 5
    },
    {
     "cell_type": "code",
     "collapsed": false,
     "input": "%lprun -f testNumexpr testNumexpr(5000)",
     "language": "python",
     "metadata": {},
     "outputs": [
      {
       "output_type": "stream",
       "stream": "stdout",
       "text": "Testing numpy with numexpr\nStarting computations...\nProcess completed successfully!\n"
      },
      {
       "output_type": "stream",
       "stream": "stdout",
       "text": "\n"
      }
     ],
     "prompt_number": 6
    },
    {
     "cell_type": "code",
     "collapsed": false,
     "input": "%mprun -f testNumexpr testNumexpr(5000)",
     "language": "python",
     "metadata": {},
     "outputs": [
      {
       "output_type": "stream",
       "stream": "stdout",
       "text": "Testing numpy with numexpr\nStarting computations...\nProcess completed successfully!\n"
      },
      {
       "output_type": "stream",
       "stream": "stdout",
       "text": "\n('',)\n"
      }
     ],
     "prompt_number": 7
    },
    {
     "cell_type": "code",
     "collapsed": false,
     "input": "%prun testNoNumexpr(5000)",
     "language": "python",
     "metadata": {},
     "outputs": [
      {
       "output_type": "stream",
       "stream": "stdout",
       "text": "Testing numpy without numexpr\nStarting computations...\nProcess completed successfully!\n"
      },
      {
       "output_type": "stream",
       "stream": "stdout",
       "text": "\n\n"
      }
     ],
     "prompt_number": 8
    },
    {
     "cell_type": "code",
     "collapsed": false,
     "input": "%lprun -f testNumexpr testNoNumexpr(5000)",
     "language": "python",
     "metadata": {},
     "outputs": [
      {
       "output_type": "stream",
       "stream": "stdout",
       "text": "Testing numpy without numexpr\nStarting computations...\nProcess completed successfully!\n"
      },
      {
       "output_type": "stream",
       "stream": "stdout",
       "text": "\n"
      }
     ],
     "prompt_number": 9
    },
    {
     "cell_type": "code",
     "collapsed": false,
     "input": "%mprun -f testNumexpr testNoNumexpr(5000)",
     "language": "python",
     "metadata": {},
     "outputs": [
      {
       "output_type": "stream",
       "stream": "stdout",
       "text": "Testing numpy without numexpr\nStarting computations...\nProcess completed successfully!\n"
      },
      {
       "output_type": "stream",
       "stream": "stdout",
       "text": "\n('',)\n"
      }
     ],
     "prompt_number": 10
    },
    {
     "cell_type": "code",
     "collapsed": false,
     "input": "",
     "language": "python",
     "metadata": {},
     "outputs": []
    }
   ],
   "metadata": {}
  }
 ]
}