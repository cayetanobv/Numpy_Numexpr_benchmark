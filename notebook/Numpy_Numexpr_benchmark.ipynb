{
 "metadata": {
  "name": "Numpy_Numexpr_benchmark"
 },
 "nbformat": 3,
 "nbformat_minor": 0,
 "worksheets": [
  {
   "cells": [
    {
     "cell_type": "markdown",
     "metadata": {},
     "source": "#Benchmark: Numpy with Numexpr and without Numexpr\n\nThis a litle benchmark between Numpy with Numexpr and without Numexpr.\n\nNumexpr is a fast numerical array expression evaluator for Python, NumPy, PyTables, pandas, bcolz and more:\nhttps://github.com/pydata/numexpr\n\n\n##Requeriments\n- Numpy\n- Numexpr\n- IPython\n- Line profiler\n- Memory profiler\n- Psutil (optional but highly recommended)\n\n\n##Results\n\nAll scripts are launched inside IPython.\nDefault ndarray size used in test is 25*10^6.\nThis is a limited test because I have used only one ndarray size (large but only one).\nUnder these conditions the result is that Numpy with Numexpr is more than seven times faster than without it.\n\nComputer used in test: AMD Athlon(tm) X4 750K Quad Core Processor, 16 GB RAM"
    },
    {
     "cell_type": "markdown",
     "metadata": {},
     "source": "###Time\n- Run script with Numexpr:"
    },
    {
     "cell_type": "code",
     "collapsed": false,
     "input": "%%timeit -n1\n%run /home/cayetano/Dropbox/documentos/python/GIS/Numpy_Numexpr_benchmark/test_numexpr.py",
     "language": "python",
     "metadata": {},
     "outputs": [
      {
       "output_type": "stream",
       "stream": "stdout",
       "text": "Testing numpy with numexpr\nStarting computations...\nProcess completed successfully!\n"
      },
      {
       "output_type": "stream",
       "stream": "stdout",
       "text": "\nTesting numpy with numexpr\nStarting computations...\nProcess completed successfully!\n"
      },
      {
       "output_type": "stream",
       "stream": "stdout",
       "text": "\nTesting numpy with numexpr\nStarting computations...\nProcess completed successfully!\n"
      },
      {
       "output_type": "stream",
       "stream": "stdout",
       "text": "\n1 loops, best of 3: 1.33 s per loop\n"
      }
     ],
     "prompt_number": 1
    },
    {
     "cell_type": "markdown",
     "metadata": {},
     "source": "- Run script without Numexpr:"
    },
    {
     "cell_type": "code",
     "collapsed": false,
     "input": "%%timeit -n1\n%run /home/cayetano/Dropbox/documentos/python/GIS/Numpy_Numexpr_benchmark/test_nonumexpr.py",
     "language": "python",
     "metadata": {},
     "outputs": [
      {
       "output_type": "stream",
       "stream": "stdout",
       "text": "Testing numpy without numexpr\nStarting computations...\nProcess completed successfully!\n"
      },
      {
       "output_type": "stream",
       "stream": "stdout",
       "text": "\nTesting numpy without numexpr\nStarting computations...\nProcess completed successfully!\n"
      },
      {
       "output_type": "stream",
       "stream": "stdout",
       "text": "\nTesting numpy without numexpr\nStarting computations...\nProcess completed successfully!\n"
      },
      {
       "output_type": "stream",
       "stream": "stdout",
       "text": "\n1 loops, best of 3: 9.45 s per loop\n"
      }
     ],
     "prompt_number": 2
    },
    {
     "cell_type": "markdown",
     "metadata": {},
     "source": "\n###Code profiling: testNumexpr() \n\n- Profiling function testNumexpr() with IPython %prun magic function:"
    },
    {
     "cell_type": "raw",
     "metadata": {},
     "source": "%prun testNumexpr(5000)"
    },
    {
     "cell_type": "markdown",
     "metadata": {},
     "source": "```   \n   65 function calls in 1.340 seconds\n\n   Ordered by: internal time\n\n   ncalls  tottime  percall  cumtime  percall filename:lineno(function)\n        2    0.817    0.408    0.817    0.408 {method 'random_sample' of 'mtrand.RandomState' objects}\n        3    0.518    0.173    0.518    0.173 necompiler.py:662(evaluate)\n        1    0.004    0.004    1.340    1.340 <string>:1(<module>)\n        1    0.001    0.001    1.336    1.336 test_numexpr.py:27(testNumexpr)\n        3    0.000    0.000    0.000    0.000 necompiler.py:462(getContext)\n        3    0.000    0.000    0.000    0.000 {sorted}\n        6    0.000    0.000    0.000    0.000 {numpy.core.multiarray.array}\n        6    0.000    0.000    0.000    0.000 necompiler.py:611(getType)\n        6    0.000    0.000    0.000    0.000 numeric.py:394(asarray)\n        6    0.000    0.000    0.000    0.000 {sys._getframe}\n        3    0.000    0.000    0.000    0.000 {method 'items' of 'dict' objects}\n        3    0.000    0.000    0.000    0.000 {zip}\n        3    0.000    0.000    0.000    0.000 {method 'get' of 'dict' objects}\n        3    0.000    0.000    0.000    0.000 {isinstance}\n        3    0.000    0.000    0.000    0.000 {method 'copy' of 'dict' objects}\n        6    0.000    0.000    0.000    0.000 {method 'append' of 'list' objects}\n        1    0.000    0.000    0.000    0.000 {method 'disable' of '_lsprof.Profiler' objects}\n        6    0.000    0.000    0.000    0.000 {method 'pop' of 'dict' objects}\n```"
    },
    {
     "cell_type": "markdown",
     "metadata": {},
     "source": "- Line profiling function testNumexpr() with IPython %lprun magic function (line_profiler library required):"
    },
    {
     "cell_type": "code",
     "collapsed": false,
     "input": "%load_ext memory_profiler",
     "language": "python",
     "metadata": {},
     "outputs": [],
     "prompt_number": 4
    },
    {
     "cell_type": "code",
     "collapsed": false,
     "input": "%load_ext line_profiler",
     "language": "python",
     "metadata": {},
     "outputs": [],
     "prompt_number": 5
    },
    {
     "cell_type": "code",
     "collapsed": false,
     "input": "%lprun -f testNumexpr testNumexpr(5000)",
     "language": "python",
     "metadata": {},
     "outputs": [
      {
       "output_type": "stream",
       "stream": "stdout",
       "text": "Testing numpy with numexpr\nStarting computations...\nProcess completed successfully!\n"
      },
      {
       "output_type": "stream",
       "stream": "stdout",
       "text": "\n"
      }
     ],
     "prompt_number": 6
    },
    {
     "cell_type": "markdown",
     "metadata": {},
     "source": "```\nTimer unit: 1e-06 s\n\nTotal time: 1.33757 s\nFile: test_numexpr.py\nFunction: testNumexpr at line 27\n\nLine #      Hits         Time  Per Hit   % Time  Line Contents\n==============================================================\n    27                                           def testNumexpr(n):\n    28                                               \n    29         1          126    126.0      0.0      print \"Testing numpy with numexpr\"\n    30         1           53     53.0      0.0      print \"Starting computations...\"\n    31                                               \n    32                                               \n    33                                               # Creating first array\n    34         1       411007 411007.0     30.7      arr1 = np.random.random((n,n))\n    35                                               # Creating second array\n    36         1       407123 407123.0     30.4      arr2 = np.random.random((n,n))\n    37                                               \n    38                                               # Several computations for testing\n    39         1       333881 333881.0     25.0      a = ne.evaluate(\"sin(arr1) + arr1**3 + sqrt(arr2)\")\n    40                                               \n    41         1        95651  95651.0      7.2      b = ne.evaluate(\"(arr1**3) * (arr2**3)\")\n    42                                               \n    43         1        89678  89678.0      6.7      ne.evaluate(\"a * b\")\n    44                                               \n    45         1           55     55.0      0.0      print \"Process completed successfully!\\n\"```"
    },
    {
     "cell_type": "markdown",
     "metadata": {},
     "source": "- Memory profiling function testNoNumexpr() with IPython %mprun magic function (memory_profiler library required):"
    },
    {
     "cell_type": "code",
     "collapsed": false,
     "input": "%mprun -f testNumexpr testNumexpr(5000)",
     "language": "python",
     "metadata": {},
     "outputs": [
      {
       "output_type": "stream",
       "stream": "stdout",
       "text": "Testing numpy with numexpr\nStarting computations...\nProcess completed successfully!\n"
      },
      {
       "output_type": "stream",
       "stream": "stdout",
       "text": "\n('',)\n"
      }
     ],
     "prompt_number": 7
    },
    {
     "cell_type": "markdown",
     "metadata": {},
     "source": "```\nFilename: test_numexpr.py\n\nLine #    Mem usage    Increment   Line Contents\n================================================\n    27     30.4 MiB      0.0 MiB   def testNumexpr(n):\n    28                                 \n    29     30.4 MiB      0.0 MiB       print \"Testing numpy with numexpr\"\n    30     30.4 MiB      0.0 MiB       print \"Starting computations...\"\n    31                                 \n    32                                 \n    33                                 # Creating first array\n    34    221.1 MiB    190.7 MiB       arr1 = np.random.random((n,n))\n    35                                 # Creating second array\n    36    411.8 MiB    190.7 MiB       arr2 = np.random.random((n,n))\n    37                                 \n    38                                 # Several computations for testing\n    39    602.6 MiB    190.7 MiB       a = ne.evaluate(\"sin(arr1) + arr1**3 + sqrt(arr2)\")\n    40                                 \n    41    793.3 MiB    190.8 MiB       b = ne.evaluate(\"(arr1**3) * (arr2**3)\")\n    42                                 \n    43    793.2 MiB     -0.1 MiB       ne.evaluate(\"a * b\")\n    44                                 \n    45    793.2 MiB      0.0 MiB       print \"Process completed successfully!\\n\"```"
    },
    {
     "cell_type": "markdown",
     "metadata": {},
     "source": "\n###Code profiling: testNoNumexpr() \n\n- Profiling function testNoNumexpr() with IPython %prun magic function:"
    },
    {
     "cell_type": "code",
     "collapsed": false,
     "input": "%prun testNoNumexpr(5000)",
     "language": "python",
     "metadata": {},
     "outputs": [
      {
       "output_type": "stream",
       "stream": "stdout",
       "text": "Testing numpy without numexpr\nStarting computations...\nProcess completed successfully!\n"
      },
      {
       "output_type": "stream",
       "stream": "stdout",
       "text": "\n\n"
      }
     ],
     "prompt_number": 8
    },
    {
     "cell_type": "markdown",
     "metadata": {},
     "source": "``` \n  5 function calls in 9.435 seconds\n\n   Ordered by: internal time\n\n   ncalls  tottime  percall  cumtime  percall filename:lineno(function)\n        1    8.613    8.613    9.430    9.430 test_nonumexpr.py:25(testNoNumexpr)\n        2    0.817    0.409    0.817    0.409 {method 'random_sample' of 'mtrand.RandomState' objects}\n        1    0.004    0.004    9.435    9.435 <string>:1(<module>)\n        1    0.000    0.000    0.000    0.000 {method 'disable' of '_lsprof.Profiler' objects}```"
    },
    {
     "cell_type": "markdown",
     "metadata": {},
     "source": "- Line profiling function testNoNumexpr() with IPython %lprun magic function (line_profiler library required):"
    },
    {
     "cell_type": "code",
     "collapsed": false,
     "input": "%lprun -f testNumexpr testNoNumexpr(5000)",
     "language": "python",
     "metadata": {},
     "outputs": [
      {
       "output_type": "stream",
       "stream": "stdout",
       "text": "Testing numpy without numexpr\nStarting computations...\nProcess completed successfully!\n"
      },
      {
       "output_type": "stream",
       "stream": "stdout",
       "text": "\n"
      }
     ],
     "prompt_number": 9
    },
    {
     "cell_type": "markdown",
     "metadata": {},
     "source": "```\nTimer unit: 1e-06 s\n\nTotal time: 9.447 s\nFile: test_nonumexpr.py\nFunction: testNoNumexpr at line 25\n\n\nLine #      Hits         Time  Per Hit   % Time  Line Contents\n==============================================================\n    25                                           def testNoNumexpr(n):\n    26                                               \n    27         1          190    190.0      0.0      print \"Testing numpy without numexpr\"\n    28         1           56     56.0      0.0      print \"Starting computations...\"\n    29                                               \n    30                                               # Creating first array\n    31         1       413514 413514.0      4.4      arr1 = np.random.random((n,n))\n    32                                               # Creating second array\n    33         1       407463 407463.0      4.3      arr2 = np.random.random((n,n))\n    34                                               \n    35                                               # Several computations for testing\n    36         1      3521544 3521544.0     37.3      a = np.sin(arr1) + arr1**3 + np.sqrt(arr2)\n    37                                               \n    38         1      4988239 4988239.0     52.8      b = (arr1**3) * (arr2**3)\n    39                                               \n    40         1       115940 115940.0      1.2      a * b\n    41                                               \n    42         1           55     55.0      0.0      print \"Process completed successfully!\\n\"```"
    },
    {
     "cell_type": "markdown",
     "metadata": {},
     "source": "\n- Memory profiling function testNoNumexpr() with IPython %mprun magic function (memory_profiler library required):"
    },
    {
     "cell_type": "code",
     "collapsed": false,
     "input": "%mprun -f testNumexpr testNoNumexpr(5000)",
     "language": "python",
     "metadata": {},
     "outputs": [
      {
       "output_type": "stream",
       "stream": "stdout",
       "text": "Testing numpy without numexpr\nStarting computations...\nProcess completed successfully!\n"
      },
      {
       "output_type": "stream",
       "stream": "stdout",
       "text": "\n('',)\n"
      }
     ],
     "prompt_number": 10
    },
    {
     "cell_type": "markdown",
     "metadata": {},
     "source": "```\nFilename: test_nonumexpr.py\n\nLine #    Mem usage    Increment   Line Contents\n================================================\n    25     30.4 MiB      0.0 MiB   def testNoNumexpr(n):\n    26                                 \n    27     30.4 MiB      0.0 MiB       print \"Testing numpy without numexpr\"\n    28     30.4 MiB      0.0 MiB       print \"Starting computations...\"\n    29                                 \n    30                                 # Creating first array\n    31    221.1 MiB    190.7 MiB       arr1 = np.random.random((n,n))\n    32                                 # Creating second array\n    33    411.8 MiB    190.7 MiB       arr2 = np.random.random((n,n))\n    34                                 \n    35                                 # Several computations for testing\n    36    602.6 MiB    190.7 MiB       a = np.sin(arr1) + arr1**3 + np.sqrt(arr2)\n    37                                 \n    38    793.3 MiB    190.7 MiB       b = (arr1**3) * (arr2**3)\n    39                                 \n    40    793.3 MiB      0.0 MiB       a * b\n    41                                 \n    42    793.3 MiB      0.0 MiB       print \"Process completed successfully!\\n\"```"
    }
   ],
   "metadata": {}
  }
 ]
}