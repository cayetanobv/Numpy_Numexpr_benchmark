{
 "metadata": {
  "name": "Numpy_Numexpr_benchmark"
 },
 "nbformat": 3,
 "nbformat_minor": 0,
 "worksheets": [
  {
   "cells": [
    {
     "cell_type": "markdown",
     "metadata": {},
     "source": "#Benchmark: Numpy with Numexpr and without Numexpr\n\nThis a litle benchmark between Numpy with Numexpr and without Numexpr.\n\nNumexpr is a fast numerical array expression evaluator for Python, NumPy, PyTables, pandas, bcolz and more:\nhttps://github.com/pydata/numexpr\n\n\n##Requeriments\n- Numpy\n- Numexpr\n- IPython\n- Line profiler\n- Memory profiler\n- Psutil (optional but highly recommended)\n\n\n##Results\n\nAll scripts are launched inside IPython.\nDefault ndarray size used in test is 25*10^6.\nThis is a limited test because I have used only one ndarray size (large but only one).\nUnder these conditions the result is that Numpy with Numexpr is more than seven times faster than without it.\n\nComputer used in test: AMD Athlon(tm) X4 750K Quad Core Processor, 16 GB RAM"
    },
    {
     "cell_type": "markdown",
     "metadata": {},
     "source": "###Time\n- Run script with Numexpr:"
    },
    {
     "cell_type": "code",
     "collapsed": false,
     "input": "%%timeit -n1\n%run /home/cayetano/Dropbox/documentos/python/GIS/Numpy_Numexpr_benchmark/test_numexpr.py",
     "language": "python",
     "metadata": {},
     "outputs": [
      {
       "output_type": "stream",
       "stream": "stdout",
       "text": "Testing numpy with numexpr\nStarting computations...\nProcess completed successfully!\n"
      },
      {
       "output_type": "stream",
       "stream": "stdout",
       "text": "\nTesting numpy with numexpr\nStarting computations...\nProcess completed successfully!\n"
      },
      {
       "output_type": "stream",
       "stream": "stdout",
       "text": "\nTesting numpy with numexpr\nStarting computations...\nProcess completed successfully!\n"
      },
      {
       "output_type": "stream",
       "stream": "stdout",
       "text": "\n1 loops, best of 3: 1.33 s per loop\n"
      }
     ],
     "prompt_number": 1
    },
    {
     "cell_type": "markdown",
     "metadata": {},
     "source": "- Run script without Numexpr:"
    },
    {
     "cell_type": "code",
     "collapsed": false,
     "input": "%%timeit -n1\n%run /home/cayetano/Dropbox/documentos/python/GIS/Numpy_Numexpr_benchmark/test_nonumexpr.py",
     "language": "python",
     "metadata": {},
     "outputs": [
      {
       "output_type": "stream",
       "stream": "stdout",
       "text": "Testing numpy without numexpr\nStarting computations...\nProcess completed successfully!\n"
      },
      {
       "output_type": "stream",
       "stream": "stdout",
       "text": "\nTesting numpy without numexpr\nStarting computations...\nProcess completed successfully!\n"
      },
      {
       "output_type": "stream",
       "stream": "stdout",
       "text": "\nTesting numpy without numexpr\nStarting computations...\nProcess completed successfully!\n"
      },
      {
       "output_type": "stream",
       "stream": "stdout",
       "text": "\n1 loops, best of 3: 9.45 s per loop\n"
      }
     ],
     "prompt_number": 2
    },
    {
     "cell_type": "markdown",
     "metadata": {},
     "source": "\n###Code profiling: testNumexpr() \n\n- Profiling function testNumexpr() with IPython %prun magic function:"
    },
    {
     "cell_type": "code",
     "collapsed": false,
     "input": "%prun testNumexpr(5000)",
     "language": "python",
     "metadata": {},
     "outputs": []
    },
    {
     "cell_type": "markdown",
     "metadata": {},
     "source": "\n   65 function calls in 1.340 seconds\n"
    },
    {
     "cell_type": "markdown",
     "metadata": {},
     "source": "- Line profiling function testNumexpr() with IPython %lprun magic function (line_profiler library required):"
    },
    {
     "cell_type": "code",
     "collapsed": false,
     "input": "%load_ext memory_profiler",
     "language": "python",
     "metadata": {},
     "outputs": [],
     "prompt_number": 4
    },
    {
     "cell_type": "code",
     "collapsed": false,
     "input": "%load_ext line_profiler",
     "language": "python",
     "metadata": {},
     "outputs": [],
     "prompt_number": 5
    },
    {
     "cell_type": "code",
     "collapsed": false,
     "input": "%lprun -f testNumexpr testNumexpr(5000)",
     "language": "python",
     "metadata": {},
     "outputs": [
      {
       "output_type": "stream",
       "stream": "stdout",
       "text": "Testing numpy with numexpr\nStarting computations...\nProcess completed successfully!\n"
      },
      {
       "output_type": "stream",
       "stream": "stdout",
       "text": "\n"
      }
     ],
     "prompt_number": 6
    },
    {
     "cell_type": "raw",
     "metadata": {},
     "source": "\nTimer unit: 1e-06 s\n\nTotal time: 1.33757 s\nFile: test_numexpr.py\nFunction: testNumexpr at line 27\n"
    },
    {
     "cell_type": "markdown",
     "metadata": {},
     "source": "- Memory profiling function testNoNumexpr() with IPython %mprun magic function (memory_profiler library required):"
    },
    {
     "cell_type": "code",
     "collapsed": false,
     "input": "%mprun -f testNumexpr testNumexpr(5000)",
     "language": "python",
     "metadata": {},
     "outputs": [
      {
       "output_type": "stream",
       "stream": "stdout",
       "text": "Testing numpy with numexpr\nStarting computations...\nProcess completed successfully!\n"
      },
      {
       "output_type": "stream",
       "stream": "stdout",
       "text": "\n('',)\n"
      }
     ],
     "prompt_number": 7
    },
    {
     "cell_type": "markdown",
     "metadata": {},
     "source": "\n###Code profiling: testNoNumexpr() \n\n- Profiling function testNoNumexpr() with IPython %prun magic function:"
    },
    {
     "cell_type": "code",
     "collapsed": false,
     "input": "%prun testNoNumexpr(5000)",
     "language": "python",
     "metadata": {},
     "outputs": [
      {
       "output_type": "stream",
       "stream": "stdout",
       "text": "Testing numpy without numexpr\nStarting computations...\nProcess completed successfully!\n"
      },
      {
       "output_type": "stream",
       "stream": "stdout",
       "text": "\n\n"
      }
     ],
     "prompt_number": 8
    },
    {
     "cell_type": "raw",
     "metadata": {},
     "source": " \n  5 function calls in 9.435 seconds\n"
    },
    {
     "cell_type": "markdown",
     "metadata": {},
     "source": "- Line profiling function testNoNumexpr() with IPython %lprun magic function (line_profiler library required):"
    },
    {
     "cell_type": "code",
     "collapsed": false,
     "input": "%lprun -f testNumexpr testNoNumexpr(5000)",
     "language": "python",
     "metadata": {},
     "outputs": [
      {
       "output_type": "stream",
       "stream": "stdout",
       "text": "Testing numpy without numexpr\nStarting computations...\nProcess completed successfully!\n"
      },
      {
       "output_type": "stream",
       "stream": "stdout",
       "text": "\n"
      }
     ],
     "prompt_number": 9
    },
    {
     "cell_type": "raw",
     "metadata": {},
     "source": "\nTimer unit: 1e-06 s\n\nTotal time: 9.447 s\nFile: test_nonumexpr.py\nFunction: testNoNumexpr at line 25\n"
    },
    {
     "cell_type": "markdown",
     "metadata": {},
     "source": "\n- Memory profiling function testNoNumexpr() with IPython %mprun magic function (memory_profiler library required):"
    },
    {
     "cell_type": "code",
     "collapsed": false,
     "input": "%mprun -f testNumexpr testNoNumexpr(5000)",
     "language": "python",
     "metadata": {},
     "outputs": [
      {
       "output_type": "stream",
       "stream": "stdout",
       "text": "Testing numpy without numexpr\nStarting computations...\nProcess completed successfully!\n"
      },
      {
       "output_type": "stream",
       "stream": "stdout",
       "text": "\n('',)\n"
      }
     ],
     "prompt_number": 10
    }
   ],
   "metadata": {}
  }
 ]
}